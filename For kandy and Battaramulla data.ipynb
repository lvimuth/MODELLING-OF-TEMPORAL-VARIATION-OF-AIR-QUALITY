{
 "cells": [
  {
   "cell_type": "code",
   "execution_count": 1,
   "metadata": {},
   "outputs": [
    {
     "name": "stdout",
     "output_type": "stream",
     "text": [
      "0.3875955260662206\n",
      "Enter parameter values: 30.7 64.6 1008.1 2.2 235\n",
      "22.034731251364242\n"
     ]
    }
   ],
   "source": [
    "# For kandy and Battaramulla data\n",
    "import pandas as pd\n",
    "import plotly\n",
    "import plotly.graph_objs as go\n",
    "import numpy as np\n",
    "from sklearn import preprocessing\n",
    "from sklearn.model_selection import train_test_split\n",
    "from sklearn.linear_model import LinearRegression\n",
    "\n",
    "min_val = []\n",
    "max_val =[]\n",
    "\n",
    "min_max_scaler = preprocessing.MinMaxScaler()\n",
    "file =('NLK_K_and_B.xlsx')\n",
    "df = pd.read_excel(file)\n",
    "df=df.drop(['Period Start Time', 'Period End Time','Rain Gauge'], axis = 1)\n",
    "df = df.drop(['Solar Rad'],axis='columns')\n",
    "title = ['AT', 'RH', 'BP', 'WS Raw', 'WD Raw',\n",
    "       'O3 Conc', 'CO Conc', 'NO2 Conc', 'SO2 Conc', 'PM2.5 Conc',\n",
    "       'PM10 Conc']\n",
    "for t in title:\n",
    "    df[t]=df[t].fillna(df[t].mean())\n",
    "    \n",
    "def normalize(df):\n",
    "    result = df.copy()\n",
    "    for feature_name in df.columns:\n",
    "        max_value = df[feature_name].max()\n",
    "        max_val.append(max_value)\n",
    "        min_value = df[feature_name].min()\n",
    "        min_val.append(min_value)\n",
    "        if df[feature_name].max()!= df[feature_name].min():\n",
    "            result[feature_name] = (df[feature_name] - min_value) / (max_value - min_value)\n",
    "        else:\n",
    "            result[feature_name]=0\n",
    "        \n",
    "    return result\n",
    "\n",
    "df=normalize(df)\n",
    "\n",
    "x=df.drop(['O3 Conc', 'CO Conc', 'NO2 Conc', 'SO2 Conc', 'PM2.5 Conc','PM10 Conc'],axis='columns')\n",
    "y=df['O3 Conc']\n",
    "\n",
    "x_train,x_test,y_train,y_test = train_test_split(x,y,test_size=0.2,random_state=10)\n",
    "lr_clf = LinearRegression()\n",
    "model = lr_clf.fit(x_train,y_train)\n",
    "print(lr_clf.score(x_test,y_test))\n",
    "\n",
    "values = [float(i) for i in input(\"Enter parameter values: \").split()]\n",
    "\n",
    "para = []\n",
    "i=0\n",
    "for val in values:\n",
    "    para.append((val- min_val[i]) / (max_val[i] - min_val[i]))\n",
    "    i=i+1\n",
    "    \n",
    "o3=model.predict([para])\n",
    "o3=(o3[0]*(max_val[5] - min_val[5]))+min_val[5]\n",
    "print(o3)"
   ]
  },
  {
   "cell_type": "code",
   "execution_count": null,
   "metadata": {},
   "outputs": [],
   "source": []
  }
 ],
 "metadata": {
  "kernelspec": {
   "display_name": "Python 3",
   "language": "python",
   "name": "python3"
  },
  "language_info": {
   "codemirror_mode": {
    "name": "ipython",
    "version": 3
   },
   "file_extension": ".py",
   "mimetype": "text/x-python",
   "name": "python",
   "nbconvert_exporter": "python",
   "pygments_lexer": "ipython3",
   "version": "3.6.10"
  }
 },
 "nbformat": 4,
 "nbformat_minor": 4
}
